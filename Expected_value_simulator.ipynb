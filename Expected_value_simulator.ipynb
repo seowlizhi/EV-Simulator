{
  "nbformat": 4,
  "nbformat_minor": 0,
  "metadata": {
    "colab": {
      "provenance": []
    },
    "kernelspec": {
      "name": "python3",
      "display_name": "Python 3"
    },
    "language_info": {
      "name": "python"
    }
  },
  "cells": [
    {
      "cell_type": "code",
      "execution_count": 1,
      "metadata": {
        "id": "gsMhiocJEByQ"
      },
      "outputs": [],
      "source": [
        "import numpy as np\n",
        "\n",
        "# Function to simulate expected value of a trading strategy\n",
        "def expected_value_simulation(win_rate, risk_to_reward_ratio, num_trades, trade_risk):\n",
        "    \"\"\"\n",
        "    Simulates the expected value of a trading strategy.\n",
        "\n",
        "    win_rate: Probability of a winning trade (e.g., 0.6 for 60%).\n",
        "    risk_to_reward_ratio: The reward-to-risk ratio (e.g., 2 means 2:1 reward to risk).\n",
        "    num_trades: Number of trades to simulate.\n",
        "    trade_risk: The risk per trade (e.g., 1% of capital).\n",
        "\n",
        "    Returns the expected value and a simulation of profits/losses.\n",
        "    \"\"\"\n",
        "\n",
        "    # Calculate potential gains and losses per trade\n",
        "    gain_per_trade = risk_to_reward_ratio * trade_risk\n",
        "    loss_per_trade = trade_risk\n",
        "\n",
        "    # Simulate trades: 1 for win, 0 for loss\n",
        "    trades = np.random.rand(num_trades) < win_rate\n",
        "\n",
        "    # Calculate profits and losses based on trade outcomes\n",
        "    profits = trades * gain_per_trade - (~trades) * loss_per_trade\n",
        "\n",
        "    # Expected Value calculation\n",
        "    expected_value = win_rate * gain_per_trade - (1 - win_rate) * loss_per_trade\n",
        "\n",
        "    return expected_value, profits"
      ]
    },
    {
      "cell_type": "code",
      "source": [
        "# Parameters (adjust these based on your strategy)\n",
        "win_rate = 0.25  # 60% win rate\n",
        "risk_to_reward_ratio = 6  # 2:1 reward to risk ratio\n",
        "num_trades = 1000000  # Simulate 1000 trades\n",
        "trade_risk = 2  # Risk 1% of capital per trade"
      ],
      "metadata": {
        "id": "rzQK4PzREEyS"
      },
      "execution_count": 29,
      "outputs": []
    },
    {
      "cell_type": "code",
      "source": [
        "# Run the simulation\n",
        "ev, profits = expected_value_simulation(win_rate, risk_to_reward_ratio, num_trades, trade_risk)"
      ],
      "metadata": {
        "id": "mZutZK2pEVJK"
      },
      "execution_count": 32,
      "outputs": []
    },
    {
      "cell_type": "code",
      "source": [
        "# Output results\n",
        "print(f\"Expected Value: {ev}\")\n",
        "print(f\"Total Profit/Loss after {num_trades} trades: {np.sum(profits)}\")"
      ],
      "metadata": {
        "id": "G_5CixwtEbHc"
      },
      "execution_count": null,
      "outputs": []
    }
  ]
}